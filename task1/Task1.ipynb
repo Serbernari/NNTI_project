{
 "cells": [
  {
   "attachments": {
    "Untitled%20Diagram.drawio%20%281%29.png": {
     "image/png": "[encoded data removed]"
    }
   },
   "cell_type": "markdown",
   "id": "7b44ee0f",
   "metadata": {},
   "source": [
    "## Introduction\n",
    "Semantic textual similarity deals with determining how similar a pair of text documents are. The goal of the first task is to implement a new architecture by combining the ideas from papers\n",
    "- Siamese Recurrent Architectures for Learning Sentence Similarity, Jonas Mueller et. al (will be referred as the AAAI paper)\n",
    "- A Structured Self-Attentive Sentence Embedding, Zhouhan Lin et. al (will be referred as the ICLR paper) <br/><br/>\n",
    "Furthermore, you'd be evaluating whether the new architecture improves the results of **Siamese Recurrent Architectures for Learning Sentence Similarity, Jonas Mueller et. al**. Your overall network architecture should look similar to the following figure. \n",
    "![Untitled%20Diagram.drawio%20%281%29.png](https://raw.githubusercontent.com/shahrukhx01/ocr-test/main/download.png)\n",
    "<br/><br/>\n",
    "\n",
    "\n",
    "Moreover, you'd be required to implement further helper functions that these papers propose i.e., attention penalty term for loss, etc."
   ]
  },
  {
   "cell_type": "markdown",
   "id": "cbed585c",
   "metadata": {},
   "source": [
    "### SICK dataset\n",
    "We will use SICK dataset throughout the project (at least in the first two tasks). To get more information about the dataset you can refer to the original [paper](http://www.lrec-conf.org/proceedings/lrec2014/pdf/363_Paper.pdf) on the dataset. You can download the dataset using one of the following links:\n",
    "- [dataset page 1](https://marcobaroni.org/composes/sick.html)\n",
    "- [dataset page 2](https://huggingface.co/datasets/sick)    \n",
    "\n",
    "The relevant columns for the project are `sentence_A`, `sentence_B`, `relatedness_score`, where `relatedness_score` is the label. <br><br>\n",
    "**Hint: For each task make sure to decide whether the label should be normalized or not.**<br><br>"
   ]
  },
  {
   "cell_type": "code",
   "execution_count": 1,
   "id": "c132db85",
   "metadata": {},
   "outputs": [],
   "source": [
    "%load_ext autoreload\n",
    "%autoreload 2"
   ]
  },
  {
   "cell_type": "code",
   "execution_count": 2,
   "id": "69b52c03",
   "metadata": {},
   "outputs": [],
   "source": [
    "import torch\n",
    "from test import evaluate_test_set\n",
    "import sts_data\n",
    "from importlib import reload"
   ]
  },
  {
   "cell_type": "markdown",
   "id": "22d3a701",
   "metadata": {},
   "source": [
    "## Part 1. Data pipeline (3 points)\n",
    "Before starting working on the model, we must configure the data pipeline to load the data in the correct format. Please, implement the functions for processing the data."
   ]
  },
  {
   "cell_type": "markdown",
   "id": "9af7f4ee",
   "metadata": {},
   "source": [
    "### Part 1.1 Loading and preprocessing the data (1 point)\n",
    "Download the SICK dataset and store it in [pandas](https://pandas.pydata.org/docs/index.html) `Dataframe`'s. You should use the official data split.  \n",
    "\n",
    "Implement `load_data` method of `STSData` class in `sts_data.py`. The method must download the dataset and perform basic preprocessing. Minimal preprocessing required:  \n",
    "1. normalize text to lower case\n",
    "2. remove punctuations  \n",
    "3. remove [stopwords](https://en.wikipedia.org/wiki/Stop_word) - we provided you with the list of English stopwords.\n",
    "4. Optionally, any other preprocessing that you deem necessary.\n",
    "\n",
    "All the preprocessing code must be contained in the `preprocessing.py` file.  \n",
    "You can use Hugginface's [datasets library](https://huggingface.co/docs/datasets/) for easy dataset download."
   ]
  },
  {
   "cell_type": "markdown",
   "id": "fd87f192",
   "metadata": {},
   "source": [
    "### Part 1.2 Building vocabulary (1 point)\n",
    "Before we can feed our text to the model it must be vectorized. We use 300 dimensional pretrained [FastText embeddings](https://fasttext.cc/docs/en/english-vectors.html) for mapping words to vectors. To know more general information about embeddings you can refer to [this video](https://www.youtube.com/watch?v=ERibwqs9p38) (even though, we use different types of embeddings - FastText vs Word2Vec described in the video - the general purpose of them is the same).  \n",
    "In order to apply the embedding, we must first construct the vocabulary for data. Complete the `create_vocab` method of `STSData` class in `sts_data.py` where you concatenate each sentence pair, tokenize it and construct the vocabulary for the whole training data. You should use [torchtext](https://torchtext.readthedocs.io/en/latest/data.html\n",
    ") for processing the data. For tokenization, you can use any library (or write your own tokenizer), but we recommend you to use tokenizer by [spacy](https://spacy.io/). Use the `fasttext.simple.300d` as pretrained vectors.  \n",
    "In the end, you must have a vocabulary object capable of mapping your input to corresponding vectors. Remember that the vocabulary is created using only training data (not touching validation or test data)."
   ]
  },
  {
   "cell_type": "markdown",
   "id": "6b90724d",
   "metadata": {},
   "source": [
    "### Part 1.3 Creating DataLoader (1 point)\n",
    "Implement `get_data_loader` method of `STSData` class in `sts_data.py`. It must perform the following operations on each of the data splits:\n",
    "1. vectorize each pair of the sentences by replacing all tokens with their index in vocabulary\n",
    "2. normalize labels\n",
    "3. convert everything to PyTorch tensors\n",
    "4. pad every sentence so that all of them have the same length\n",
    "5. create `STSDataset` from `dataset.py`\n",
    "6. create PyTorch DataLoader out of the created dataset. \n",
    "\n",
    "\n",
    "We have provided you with the interfaces of possible helper functions, but you can change them as you need.   \n",
    "In the end, you must have 3 data loaders for each of the splits."
   ]
  },
  {
   "cell_type": "code",
   "execution_count": 3,
   "id": "62b40225",
   "metadata": {},
   "outputs": [
    {
     "name": "stderr",
     "output_type": "stream",
     "text": [
      "INFO:root:loading and preprocessing data...\n",
      "WARNING:datasets.builder:Using custom data configuration default\n",
      "WARNING:datasets.builder:Reusing dataset sick (C:\\Users\\laure\\.cache\\huggingface\\datasets\\sick\\default\\0.0.0\\c6b3b0b44eb84b134851396d6d464e5cb8f026960519d640e087fe33472626db)\n",
      "100%|██████████| 3/3 [00:00<00:00, 103.49it/s]\n",
      "INFO:root:Four kids are doing backbends in the park\n",
      "INFO:root:Four children are doing backbends in the park\n",
      "c:\\Users\\laure\\Documents\\NNTI\\nlp_project_nnti 2\\nlp_project_nnti\\task1\\preprocess.py:48: FutureWarning: The default value of regex will change from True to False in a future version.\n",
      "  dataset['train']['sentence_A'] = dataset['train']['sentence_A'].str.replace(self.punctuation_regex, '')\n",
      "c:\\Users\\laure\\Documents\\NNTI\\nlp_project_nnti 2\\nlp_project_nnti\\task1\\preprocess.py:49: FutureWarning: The default value of regex will change from True to False in a future version.\n",
      "  dataset['train']['sentence_B'] = dataset['train']['sentence_B'].str.replace(self.punctuation_regex, '')\n",
      "c:\\Users\\laure\\Documents\\NNTI\\nlp_project_nnti 2\\nlp_project_nnti\\task1\\preprocess.py:50: FutureWarning: The default value of regex will change from True to False in a future version.\n",
      "  dataset['test']['sentence_A'] = dataset['test']['sentence_A'].str.replace(self.punctuation_regex, '')\n",
      "c:\\Users\\laure\\Documents\\NNTI\\nlp_project_nnti 2\\nlp_project_nnti\\task1\\preprocess.py:51: FutureWarning: The default value of regex will change from True to False in a future version.\n",
      "  dataset['test']['sentence_B'] = dataset['test']['sentence_B'].str.replace(self.punctuation_regex, '')\n",
      "c:\\Users\\laure\\Documents\\NNTI\\nlp_project_nnti 2\\nlp_project_nnti\\task1\\preprocess.py:52: FutureWarning: The default value of regex will change from True to False in a future version.\n",
      "  dataset['validation']['sentence_A'] = dataset['validation']['sentence_A'].str.replace(self.punctuation_regex, '')\n",
      "c:\\Users\\laure\\Documents\\NNTI\\nlp_project_nnti 2\\nlp_project_nnti\\task1\\preprocess.py:53: FutureWarning: The default value of regex will change from True to False in a future version.\n",
      "  dataset['validation']['sentence_B'] = dataset['validation']['sentence_B'].str.replace(self.punctuation_regex, '')\n",
      "INFO:root:reading and preprocessing data completed...\n",
      "INFO:root:['kids', 'backbends', 'park']\n",
      "INFO:root:['children', 'backbends', 'park']\n",
      "INFO:root:creating vocabulary...\n",
      "INFO:root:loading spacy tokenizer\n",
      "INFO:root:concatenating sentences\n",
      "INFO:root:building vocab with torchtext\n",
      "INFO:torchtext.vocab.vectors:Loading vectors from .vector_cache\\wiki.simple.vec.pt\n",
      "INFO:root:creating vocabulary completed...\n"
     ]
    },
    {
     "name": "stdout",
     "output_type": "stream",
     "text": [
      "Testing vocab. Index for kids is 65\n",
      "Testing vocab. Index for sentence ['kids', 'playing', 'yard', 'standing', 'background'] is [65, 4, 144, 6, 141]\n",
      "<unk>\n",
      "<pad>\n",
      "woman\n",
      "Index(['id', 'sentence_A', 'sentence_B', 'label', 'relatedness_score',\n",
      "       'entailment_AB', 'entailment_BA', 'sentence_A_original',\n",
      "       'sentence_B_original', 'sentence_A_dataset', 'sentence_B_dataset'],\n",
      "      dtype='object')\n",
      "max len a: 14, max_len b: 14, max_len 14\n",
      "[228, 93, 7, 572, 368, 0, 0, 0, 0, 0, 0, 0, 0, 0]\n",
      "max len a: 12, max_len b: 14, max_len 14\n",
      "[5, 10, 41, 14, 22, 0, 0, 0, 0, 0, 0, 0, 0, 0]\n",
      "max len a: 14, max_len b: 14, max_len 14\n",
      "[1347, 12, 16, 164, 1287, 180, 0, 0, 0, 0, 0, 0, 0, 0]\n"
     ]
    }
   ],
   "source": [
    "reload(sts_data)\n",
    "from sts_data import STSData\n",
    "\n",
    "columns_mapping = {\n",
    "        \"sent1\": \"sentence_A\",\n",
    "        \"sent2\": \"sentence_B\",\n",
    "        \"label\": \"relatedness_score\",\n",
    "    }\n",
    "dataset_name = \"sick\"\n",
    "sick_data = STSData(\n",
    "    dataset_name=dataset_name,\n",
    "    columns_mapping=columns_mapping,\n",
    "    normalize_labels=True,\n",
    "    normalization_const=5.0,\n",
    ")\n",
    "batch_size = 128\n",
    "\n",
    "sick_dataloaders = sick_data.get_data_loader(batch_size=batch_size)"
   ]
  },
  {
   "cell_type": "markdown",
   "id": "b98c6526",
   "metadata": {},
   "source": [
    "## Part 2. Model Configuration & Hyperparameter Tuning (3 points)\n",
    "In this part, you are required to define a model capable of learning self-attentive sentence embeddings described in [this ICLR paper](https://arxiv.org/pdf/1703.03130.pdf). The sentence embedding learned by this model will be used for computing the similarity score instead of the simpler embeddings described in the original AAAI paper.  \n",
    "Please familiarize yourself with the model described in the ICLR paper and implement `SiameseBiLSTMAttention` and `SelfAttention` classes in `siamese_lstm_attention.py`. Remember that you must run the model on each sentence in the sentence pair to calculate the similarity between them. You can use `similarity_score` from `utils.py` to compute the similarity score between two sentences. \n",
    "  \n",
    "To get more theoretical information about attention mechanisms you can refer to [this chapter](https://web.stanford.edu/~jurafsky/slp3/10.pdf) of [\"Speech and Language Processing\" book](https://web.stanford.edu/~jurafsky/slp3/) by Dan Jurafsky and James H. Martin, where the attention mechanism is described in the context of the machine translation task. \n",
    "\n",
    "Finally, once your implementation works on the default parameters stated below, make sure to perform **hyperparameter tuning** to find the best combination of hyperparameters."
   ]
  },
  {
   "cell_type": "code",
   "execution_count": 4,
   "id": "a530ec28",
   "metadata": {},
   "outputs": [],
   "source": [
    "output_size = 128\n",
    "hidden_size = 403\n",
    "vocab_size = len(sick_data.vocab)\n",
    "embedding_size = 300\n",
    "embedding_weights = sick_data.vocab.vectors\n",
    "lstm_layers = 4\n",
    "learning_rate = 0.00048586475278877557\n",
    "fc_hidden_size = 89\n",
    "max_epochs = 200\n",
    "bidirectional = True\n",
    "dropout = 0.12354567224086944\n",
    "device = torch.device(\"cuda:0\" if torch.cuda.is_available() else \"cpu\")\n",
    "## self attention config\n",
    "self_attention_config = {\n",
    "    \"hidden_size\": 400,  ## refers to variable 'da' in the ICLR paper\n",
    "    \"output_size\": 14,  ## refers to variable 'r' in the ICLR paper\n",
    "    \"penalty\": 0.1965166853622733,  ## refers to penalty coefficient term in the ICLR paper\n",
    "}"
   ]
  },
  {
   "cell_type": "code",
   "execution_count": 5,
   "id": "a879b228",
   "metadata": {},
   "outputs": [
    {
     "data": {
      "text/plain": [
       "SiameseBiLSTMAttention(\n",
       "  (word_embeddings): Embedding(1962, 300)\n",
       "  (biLSTM): LSTM(300, 403, num_layers=4, dropout=0.12354567224086944, bidirectional=True)\n",
       "  (attention): SelfAttention(\n",
       "    (Ws1): Linear(in_features=806, out_features=400, bias=False)\n",
       "    (Ws2): Linear(in_features=400, out_features=14, bias=False)\n",
       "  )\n",
       "  (fc_layer): Sequential(\n",
       "    (0): Linear(in_features=11284, out_features=89, bias=False)\n",
       "    (1): ReLU()\n",
       "    (2): Linear(in_features=89, out_features=128, bias=False)\n",
       "  )\n",
       ")"
      ]
     },
     "execution_count": 5,
     "metadata": {},
     "output_type": "execute_result"
    }
   ],
   "source": [
    "from siamese_lstm_attention import SiameseBiLSTMAttention\n",
    "## init siamese lstm\n",
    "siamese_lstm_attention = SiameseBiLSTMAttention(\n",
    "    batch_size=batch_size,\n",
    "    output_size=output_size,\n",
    "    hidden_size=hidden_size,\n",
    "    vocab_size=vocab_size,\n",
    "    embedding_size=embedding_size,\n",
    "    embedding_weights=embedding_weights,\n",
    "    lstm_layers=lstm_layers,\n",
    "    self_attention_config=self_attention_config,\n",
    "    fc_hidden_size=fc_hidden_size,\n",
    "    device=device,\n",
    "    bidirectional=bidirectional,\n",
    "    dropout=dropout\n",
    ")\n",
    "## move model to device\n",
    "siamese_lstm_attention.to(device)"
   ]
  },
  {
   "cell_type": "code",
   "execution_count": 6,
   "id": "89319501",
   "metadata": {},
   "outputs": [
    {
     "name": "stderr",
     "output_type": "stream",
     "text": [
      "INFO:root:Finding best hyperparameters using genetic algorithm\n",
      "INFO:root:starting generation 0\n",
      "INFO:root:Starting train for model with parameters hidden_size=192,lstm_layers=7,fc=128,dropout=0.2674590913321203,a_hs=400,a_os=10,p=0.8206204273882088, lr=0.002, o_size=284\n",
      " 53%|█████▎    | 8/15 [00:11<00:09,  1.40s/it]\n"
     ]
    },
    {
     "ename": "KeyboardInterrupt",
     "evalue": "",
     "output_type": "error",
     "traceback": [
      "\u001b[1;31m---------------------------------------------------------------------------\u001b[0m",
      "\u001b[1;31mKeyboardInterrupt\u001b[0m                         Traceback (most recent call last)",
      "\u001b[1;32m~\\AppData\\Local\\Temp/ipykernel_14636/3383249904.py\u001b[0m in \u001b[0;36m<module>\u001b[1;34m\u001b[0m\n\u001b[0;32m      5\u001b[0m         \u001b[1;34m\"device\"\u001b[0m\u001b[1;33m:\u001b[0m \u001b[0mdevice\u001b[0m\u001b[1;33m,\u001b[0m\u001b[1;33m\u001b[0m\u001b[1;33m\u001b[0m\u001b[0m\n\u001b[0;32m      6\u001b[0m         \u001b[1;34m\"model_name\"\u001b[0m\u001b[1;33m:\u001b[0m \u001b[1;34m\"siamese_lstm_attention\"\u001b[0m\u001b[1;33m,\u001b[0m\u001b[1;33m\u001b[0m\u001b[1;33m\u001b[0m\u001b[0m\n\u001b[1;32m----> 7\u001b[1;33m         \u001b[1;34m\"self_attention_config\"\u001b[0m\u001b[1;33m:\u001b[0m \u001b[0mself_attention_config\u001b[0m\u001b[1;33m,\u001b[0m\u001b[1;33m\u001b[0m\u001b[1;33m\u001b[0m\u001b[0m\n\u001b[0m\u001b[0;32m      8\u001b[0m     })\n",
      "\u001b[1;32mc:\\Users\\laure\\Documents\\NNTI\\nlp_project_nnti 2\\nlp_project_nnti\\task1\\train.py\u001b[0m in \u001b[0;36mgenetic_hyperparam_search\u001b[1;34m(data_loader, device, vocab_size, embedding_weights, config_dict, mutation_chance, num_candidates, batch_size, output_size, embedding_size, bidirectional, max_epochs, num_gens)\u001b[0m\n\u001b[0;32m    373\u001b[0m                 \u001b[0mprint\u001b[0m\u001b[1;33m(\u001b[0m\u001b[0mm\u001b[0m\u001b[1;33m)\u001b[0m\u001b[1;33m\u001b[0m\u001b[1;33m\u001b[0m\u001b[0m\n\u001b[0;32m    374\u001b[0m \u001b[1;33m\u001b[0m\u001b[0m\n\u001b[1;32m--> 375\u001b[1;33m             \u001b[0mbest_val_acc\u001b[0m \u001b[1;33m=\u001b[0m \u001b[0mtrain_hyperparameters\u001b[0m\u001b[1;33m(\u001b[0m\u001b[0mm\u001b[0m\u001b[1;33m[\u001b[0m\u001b[1;34m'm'\u001b[0m\u001b[1;33m]\u001b[0m\u001b[1;33m,\u001b[0m \u001b[0moptimizer\u001b[0m\u001b[1;33m,\u001b[0m \u001b[0mdata_loader\u001b[0m\u001b[1;33m,\u001b[0m \u001b[1;32mNone\u001b[0m\u001b[1;33m,\u001b[0m \u001b[0mmax_epochs\u001b[0m\u001b[1;33m,\u001b[0m \u001b[0mm\u001b[0m\u001b[1;33m[\u001b[0m\u001b[1;34m'config'\u001b[0m\u001b[1;33m]\u001b[0m\u001b[1;33m)\u001b[0m\u001b[1;33m\u001b[0m\u001b[1;33m\u001b[0m\u001b[0m\n\u001b[0m\u001b[0;32m    376\u001b[0m             \u001b[0mm\u001b[0m\u001b[1;33m[\u001b[0m\u001b[1;34m'val_acc'\u001b[0m\u001b[1;33m]\u001b[0m \u001b[1;33m=\u001b[0m \u001b[0mbest_val_acc\u001b[0m\u001b[1;33m\u001b[0m\u001b[1;33m\u001b[0m\u001b[0m\n\u001b[0;32m    377\u001b[0m \u001b[1;33m\u001b[0m\u001b[0m\n",
      "\u001b[1;32mc:\\Users\\laure\\Documents\\NNTI\\nlp_project_nnti 2\\nlp_project_nnti\\task1\\train.py\u001b[0m in \u001b[0;36mtrain_hyperparameters\u001b[1;34m(model, optimizer, dataloader, data, max_epochs, config_dict)\u001b[0m\n\u001b[0;32m    151\u001b[0m             \u001b[0m_\u001b[0m\u001b[1;33m,\u001b[0m\u001b[1;33m\u001b[0m\u001b[1;33m\u001b[0m\u001b[0m\n\u001b[0;32m    152\u001b[0m             \u001b[0m_\u001b[0m\u001b[1;33m,\u001b[0m\u001b[1;33m\u001b[0m\u001b[1;33m\u001b[0m\u001b[0m\n\u001b[1;32m--> 153\u001b[1;33m         ) in dataloader[\"train\"]:\n\u001b[0m\u001b[0;32m    154\u001b[0m             \u001b[0mmodel\u001b[0m\u001b[1;33m.\u001b[0m\u001b[0mtrain\u001b[0m\u001b[1;33m(\u001b[0m\u001b[1;33m)\u001b[0m\u001b[1;33m\u001b[0m\u001b[1;33m\u001b[0m\u001b[0m\n\u001b[0;32m    155\u001b[0m             \u001b[0mmodel\u001b[0m\u001b[1;33m.\u001b[0m\u001b[0mzero_grad\u001b[0m\u001b[1;33m(\u001b[0m\u001b[1;33m)\u001b[0m\u001b[1;33m\u001b[0m\u001b[1;33m\u001b[0m\u001b[0m\n",
      "\u001b[1;32m~\\.conda\\envs\\py_37\\lib\\site-packages\\torch\\utils\\data\\dataloader.py\u001b[0m in \u001b[0;36m__next__\u001b[1;34m(self)\u001b[0m\n\u001b[0;32m    519\u001b[0m             \u001b[1;32mif\u001b[0m \u001b[0mself\u001b[0m\u001b[1;33m.\u001b[0m\u001b[0m_sampler_iter\u001b[0m \u001b[1;32mis\u001b[0m \u001b[1;32mNone\u001b[0m\u001b[1;33m:\u001b[0m\u001b[1;33m\u001b[0m\u001b[1;33m\u001b[0m\u001b[0m\n\u001b[0;32m    520\u001b[0m                 \u001b[0mself\u001b[0m\u001b[1;33m.\u001b[0m\u001b[0m_reset\u001b[0m\u001b[1;33m(\u001b[0m\u001b[1;33m)\u001b[0m\u001b[1;33m\u001b[0m\u001b[1;33m\u001b[0m\u001b[0m\n\u001b[1;32m--> 521\u001b[1;33m             \u001b[0mdata\u001b[0m \u001b[1;33m=\u001b[0m \u001b[0mself\u001b[0m\u001b[1;33m.\u001b[0m\u001b[0m_next_data\u001b[0m\u001b[1;33m(\u001b[0m\u001b[1;33m)\u001b[0m\u001b[1;33m\u001b[0m\u001b[1;33m\u001b[0m\u001b[0m\n\u001b[0m\u001b[0;32m    522\u001b[0m             \u001b[0mself\u001b[0m\u001b[1;33m.\u001b[0m\u001b[0m_num_yielded\u001b[0m \u001b[1;33m+=\u001b[0m \u001b[1;36m1\u001b[0m\u001b[1;33m\u001b[0m\u001b[1;33m\u001b[0m\u001b[0m\n\u001b[0;32m    523\u001b[0m             \u001b[1;32mif\u001b[0m \u001b[0mself\u001b[0m\u001b[1;33m.\u001b[0m\u001b[0m_dataset_kind\u001b[0m \u001b[1;33m==\u001b[0m \u001b[0m_DatasetKind\u001b[0m\u001b[1;33m.\u001b[0m\u001b[0mIterable\u001b[0m \u001b[1;32mand\u001b[0m\u001b[0;31m \u001b[0m\u001b[0;31m\\\u001b[0m\u001b[1;33m\u001b[0m\u001b[1;33m\u001b[0m\u001b[0m\n",
      "\u001b[1;32m~\\.conda\\envs\\py_37\\lib\\site-packages\\torch\\utils\\data\\dataloader.py\u001b[0m in \u001b[0;36m_next_data\u001b[1;34m(self)\u001b[0m\n\u001b[0;32m    559\u001b[0m     \u001b[1;32mdef\u001b[0m \u001b[0m_next_data\u001b[0m\u001b[1;33m(\u001b[0m\u001b[0mself\u001b[0m\u001b[1;33m)\u001b[0m\u001b[1;33m:\u001b[0m\u001b[1;33m\u001b[0m\u001b[1;33m\u001b[0m\u001b[0m\n\u001b[0;32m    560\u001b[0m         \u001b[0mindex\u001b[0m \u001b[1;33m=\u001b[0m \u001b[0mself\u001b[0m\u001b[1;33m.\u001b[0m\u001b[0m_next_index\u001b[0m\u001b[1;33m(\u001b[0m\u001b[1;33m)\u001b[0m  \u001b[1;31m# may raise StopIteration\u001b[0m\u001b[1;33m\u001b[0m\u001b[1;33m\u001b[0m\u001b[0m\n\u001b[1;32m--> 561\u001b[1;33m         \u001b[0mdata\u001b[0m \u001b[1;33m=\u001b[0m \u001b[0mself\u001b[0m\u001b[1;33m.\u001b[0m\u001b[0m_dataset_fetcher\u001b[0m\u001b[1;33m.\u001b[0m\u001b[0mfetch\u001b[0m\u001b[1;33m(\u001b[0m\u001b[0mindex\u001b[0m\u001b[1;33m)\u001b[0m  \u001b[1;31m# may raise StopIteration\u001b[0m\u001b[1;33m\u001b[0m\u001b[1;33m\u001b[0m\u001b[0m\n\u001b[0m\u001b[0;32m    562\u001b[0m         \u001b[1;32mif\u001b[0m \u001b[0mself\u001b[0m\u001b[1;33m.\u001b[0m\u001b[0m_pin_memory\u001b[0m\u001b[1;33m:\u001b[0m\u001b[1;33m\u001b[0m\u001b[1;33m\u001b[0m\u001b[0m\n\u001b[0;32m    563\u001b[0m             \u001b[0mdata\u001b[0m \u001b[1;33m=\u001b[0m \u001b[0m_utils\u001b[0m\u001b[1;33m.\u001b[0m\u001b[0mpin_memory\u001b[0m\u001b[1;33m.\u001b[0m\u001b[0mpin_memory\u001b[0m\u001b[1;33m(\u001b[0m\u001b[0mdata\u001b[0m\u001b[1;33m)\u001b[0m\u001b[1;33m\u001b[0m\u001b[1;33m\u001b[0m\u001b[0m\n",
      "\u001b[1;32m~\\.conda\\envs\\py_37\\lib\\site-packages\\torch\\utils\\data\\_utils\\fetch.py\u001b[0m in \u001b[0;36mfetch\u001b[1;34m(self, possibly_batched_index)\u001b[0m\n\u001b[0;32m     50\u001b[0m         \u001b[1;32melse\u001b[0m\u001b[1;33m:\u001b[0m\u001b[1;33m\u001b[0m\u001b[1;33m\u001b[0m\u001b[0m\n\u001b[0;32m     51\u001b[0m             \u001b[0mdata\u001b[0m \u001b[1;33m=\u001b[0m \u001b[0mself\u001b[0m\u001b[1;33m.\u001b[0m\u001b[0mdataset\u001b[0m\u001b[1;33m[\u001b[0m\u001b[0mpossibly_batched_index\u001b[0m\u001b[1;33m]\u001b[0m\u001b[1;33m\u001b[0m\u001b[1;33m\u001b[0m\u001b[0m\n\u001b[1;32m---> 52\u001b[1;33m         \u001b[1;32mreturn\u001b[0m \u001b[0mself\u001b[0m\u001b[1;33m.\u001b[0m\u001b[0mcollate_fn\u001b[0m\u001b[1;33m(\u001b[0m\u001b[0mdata\u001b[0m\u001b[1;33m)\u001b[0m\u001b[1;33m\u001b[0m\u001b[1;33m\u001b[0m\u001b[0m\n\u001b[0m",
      "\u001b[1;32m~\\.conda\\envs\\py_37\\lib\\site-packages\\torch\\utils\\data\\_utils\\collate.py\u001b[0m in \u001b[0;36mdefault_collate\u001b[1;34m(batch)\u001b[0m\n\u001b[0;32m     82\u001b[0m             \u001b[1;32mraise\u001b[0m \u001b[0mRuntimeError\u001b[0m\u001b[1;33m(\u001b[0m\u001b[1;34m'each element in list of batch should be of equal size'\u001b[0m\u001b[1;33m)\u001b[0m\u001b[1;33m\u001b[0m\u001b[1;33m\u001b[0m\u001b[0m\n\u001b[0;32m     83\u001b[0m         \u001b[0mtransposed\u001b[0m \u001b[1;33m=\u001b[0m \u001b[0mzip\u001b[0m\u001b[1;33m(\u001b[0m\u001b[1;33m*\u001b[0m\u001b[0mbatch\u001b[0m\u001b[1;33m)\u001b[0m\u001b[1;33m\u001b[0m\u001b[1;33m\u001b[0m\u001b[0m\n\u001b[1;32m---> 84\u001b[1;33m         \u001b[1;32mreturn\u001b[0m \u001b[1;33m[\u001b[0m\u001b[0mdefault_collate\u001b[0m\u001b[1;33m(\u001b[0m\u001b[0msamples\u001b[0m\u001b[1;33m)\u001b[0m \u001b[1;32mfor\u001b[0m \u001b[0msamples\u001b[0m \u001b[1;32min\u001b[0m \u001b[0mtransposed\u001b[0m\u001b[1;33m]\u001b[0m\u001b[1;33m\u001b[0m\u001b[1;33m\u001b[0m\u001b[0m\n\u001b[0m\u001b[0;32m     85\u001b[0m \u001b[1;33m\u001b[0m\u001b[0m\n\u001b[0;32m     86\u001b[0m     \u001b[1;32mraise\u001b[0m \u001b[0mTypeError\u001b[0m\u001b[1;33m(\u001b[0m\u001b[0mdefault_collate_err_msg_format\u001b[0m\u001b[1;33m.\u001b[0m\u001b[0mformat\u001b[0m\u001b[1;33m(\u001b[0m\u001b[0melem_type\u001b[0m\u001b[1;33m)\u001b[0m\u001b[1;33m)\u001b[0m\u001b[1;33m\u001b[0m\u001b[1;33m\u001b[0m\u001b[0m\n",
      "\u001b[1;32m~\\.conda\\envs\\py_37\\lib\\site-packages\\torch\\utils\\data\\_utils\\collate.py\u001b[0m in \u001b[0;36m<listcomp>\u001b[1;34m(.0)\u001b[0m\n\u001b[0;32m     82\u001b[0m             \u001b[1;32mraise\u001b[0m \u001b[0mRuntimeError\u001b[0m\u001b[1;33m(\u001b[0m\u001b[1;34m'each element in list of batch should be of equal size'\u001b[0m\u001b[1;33m)\u001b[0m\u001b[1;33m\u001b[0m\u001b[1;33m\u001b[0m\u001b[0m\n\u001b[0;32m     83\u001b[0m         \u001b[0mtransposed\u001b[0m \u001b[1;33m=\u001b[0m \u001b[0mzip\u001b[0m\u001b[1;33m(\u001b[0m\u001b[1;33m*\u001b[0m\u001b[0mbatch\u001b[0m\u001b[1;33m)\u001b[0m\u001b[1;33m\u001b[0m\u001b[1;33m\u001b[0m\u001b[0m\n\u001b[1;32m---> 84\u001b[1;33m         \u001b[1;32mreturn\u001b[0m \u001b[1;33m[\u001b[0m\u001b[0mdefault_collate\u001b[0m\u001b[1;33m(\u001b[0m\u001b[0msamples\u001b[0m\u001b[1;33m)\u001b[0m \u001b[1;32mfor\u001b[0m \u001b[0msamples\u001b[0m \u001b[1;32min\u001b[0m \u001b[0mtransposed\u001b[0m\u001b[1;33m]\u001b[0m\u001b[1;33m\u001b[0m\u001b[1;33m\u001b[0m\u001b[0m\n\u001b[0m\u001b[0;32m     85\u001b[0m \u001b[1;33m\u001b[0m\u001b[0m\n\u001b[0;32m     86\u001b[0m     \u001b[1;32mraise\u001b[0m \u001b[0mTypeError\u001b[0m\u001b[1;33m(\u001b[0m\u001b[0mdefault_collate_err_msg_format\u001b[0m\u001b[1;33m.\u001b[0m\u001b[0mformat\u001b[0m\u001b[1;33m(\u001b[0m\u001b[0melem_type\u001b[0m\u001b[1;33m)\u001b[0m\u001b[1;33m)\u001b[0m\u001b[1;33m\u001b[0m\u001b[1;33m\u001b[0m\u001b[0m\n",
      "\u001b[1;32m~\\.conda\\envs\\py_37\\lib\\site-packages\\torch\\utils\\data\\_utils\\collate.py\u001b[0m in \u001b[0;36mdefault_collate\u001b[1;34m(batch)\u001b[0m\n\u001b[0;32m     54\u001b[0m             \u001b[0mstorage\u001b[0m \u001b[1;33m=\u001b[0m \u001b[0melem\u001b[0m\u001b[1;33m.\u001b[0m\u001b[0mstorage\u001b[0m\u001b[1;33m(\u001b[0m\u001b[1;33m)\u001b[0m\u001b[1;33m.\u001b[0m\u001b[0m_new_shared\u001b[0m\u001b[1;33m(\u001b[0m\u001b[0mnumel\u001b[0m\u001b[1;33m)\u001b[0m\u001b[1;33m\u001b[0m\u001b[1;33m\u001b[0m\u001b[0m\n\u001b[0;32m     55\u001b[0m             \u001b[0mout\u001b[0m \u001b[1;33m=\u001b[0m \u001b[0melem\u001b[0m\u001b[1;33m.\u001b[0m\u001b[0mnew\u001b[0m\u001b[1;33m(\u001b[0m\u001b[0mstorage\u001b[0m\u001b[1;33m)\u001b[0m\u001b[1;33m\u001b[0m\u001b[1;33m\u001b[0m\u001b[0m\n\u001b[1;32m---> 56\u001b[1;33m         \u001b[1;32mreturn\u001b[0m \u001b[0mtorch\u001b[0m\u001b[1;33m.\u001b[0m\u001b[0mstack\u001b[0m\u001b[1;33m(\u001b[0m\u001b[0mbatch\u001b[0m\u001b[1;33m,\u001b[0m \u001b[1;36m0\u001b[0m\u001b[1;33m,\u001b[0m \u001b[0mout\u001b[0m\u001b[1;33m=\u001b[0m\u001b[0mout\u001b[0m\u001b[1;33m)\u001b[0m\u001b[1;33m\u001b[0m\u001b[1;33m\u001b[0m\u001b[0m\n\u001b[0m\u001b[0;32m     57\u001b[0m     \u001b[1;32melif\u001b[0m \u001b[0melem_type\u001b[0m\u001b[1;33m.\u001b[0m\u001b[0m__module__\u001b[0m \u001b[1;33m==\u001b[0m \u001b[1;34m'numpy'\u001b[0m \u001b[1;32mand\u001b[0m \u001b[0melem_type\u001b[0m\u001b[1;33m.\u001b[0m\u001b[0m__name__\u001b[0m \u001b[1;33m!=\u001b[0m \u001b[1;34m'str_'\u001b[0m\u001b[0;31m \u001b[0m\u001b[0;31m\\\u001b[0m\u001b[1;33m\u001b[0m\u001b[1;33m\u001b[0m\u001b[0m\n\u001b[0;32m     58\u001b[0m             \u001b[1;32mand\u001b[0m \u001b[0melem_type\u001b[0m\u001b[1;33m.\u001b[0m\u001b[0m__name__\u001b[0m \u001b[1;33m!=\u001b[0m \u001b[1;34m'string_'\u001b[0m\u001b[1;33m:\u001b[0m\u001b[1;33m\u001b[0m\u001b[1;33m\u001b[0m\u001b[0m\n",
      "\u001b[1;31mKeyboardInterrupt\u001b[0m: "
     ]
    }
   ],
   "source": [
    "from train import train_model, train_hyperparameters, genetic_hyperparam_search\n",
    "\n",
    "genetic_hyperparam_search(data_loader=sick_dataloaders,device=device, vocab_size=vocab_size, embedding_weights=embedding_weights,max_epochs=15,\n",
    "config_dict={\n",
    "        \"device\": device,\n",
    "        \"model_name\": \"siamese_lstm_attention\",\n",
    "        \"self_attention_config\": self_attention_config,\n",
    "    })"
   ]
  },
  {
   "cell_type": "markdown",
   "id": "99b100de",
   "metadata": {},
   "source": [
    "## Part 3. Training (2 points)  \n",
    "Perform the final training of the model by implementing functions in `train.py` after setting values of your best-chosen hyperparameters. Note you can use the same training function when performing hyperparameter tuning.\n",
    "- **What is a good choice of performance metric here for evaluating your model?** [Max 2-3 lines]\n",
    "- **What other performance evaluation metric can we use here for this task? Motivate your answer.**[Max 2-3 lines]"
   ]
  },
  {
   "cell_type": "code",
   "execution_count": 39,
   "id": "ad7ee6b4",
   "metadata": {},
   "outputs": [],
   "source": [
    "batch_size=32\n",
    "output_size = 211\n",
    "hidden_size = 192\n",
    "vocab_size = len(sick_data.vocab)\n",
    "embedding_size = 300\n",
    "embedding_weights = sick_data.vocab.vectors\n",
    "lstm_layers = 3\n",
    "learning_rate = 8e-05\n",
    "fc_hidden_size = 256\n",
    "max_epochs = 100\n",
    "bidirectional = True\n",
    "dropout = 0.01666471864604624\n",
    "device = torch.device(\"cuda:0\" if torch.cuda.is_available() else \"cpu\")\n",
    "## self attention config\n",
    "self_attention_config = {\n",
    "    \"hidden_size\": 400,  ## refers to variable 'da' in the ICLR paper\n",
    "    \"output_size\": 20,  ## refers to variable 'r' in the ICLR paper\n",
    "    \"penalty\": 0.0#0.08705396685030309,  ## refers to penalty coefficient term in the ICLR paper\n",
    "}"
   ]
  },
  {
   "cell_type": "code",
   "execution_count": 40,
   "id": "8c06eb69",
   "metadata": {},
   "outputs": [
    {
     "data": {
      "text/plain": [
       "SiameseBiLSTMAttention(\n",
       "  (word_embeddings): Embedding(1962, 300)\n",
       "  (biLSTM): LSTM(300, 192, num_layers=3, dropout=0.01666471864604624, bidirectional=True)\n",
       "  (attention): SelfAttention(\n",
       "    (Ws1): Linear(in_features=384, out_features=400, bias=False)\n",
       "    (Ws2): Linear(in_features=400, out_features=20, bias=False)\n",
       "  )\n",
       "  (fc_layer): Sequential(\n",
       "    (0): Linear(in_features=7680, out_features=256, bias=False)\n",
       "    (1): ReLU()\n",
       "    (2): Linear(in_features=256, out_features=211, bias=False)\n",
       "  )\n",
       ")"
      ]
     },
     "execution_count": 40,
     "metadata": {},
     "output_type": "execute_result"
    }
   ],
   "source": [
    "from siamese_lstm_attention import SiameseBiLSTMAttention\n",
    "## init siamese lstm\n",
    "siamese_lstm_attention = SiameseBiLSTMAttention(\n",
    "    batch_size=batch_size,\n",
    "    output_size=output_size,\n",
    "    hidden_size=hidden_size,\n",
    "    vocab_size=vocab_size,\n",
    "    embedding_size=embedding_size,\n",
    "    embedding_weights=embedding_weights,\n",
    "    lstm_layers=lstm_layers,\n",
    "    self_attention_config=self_attention_config,\n",
    "    fc_hidden_size=fc_hidden_size,\n",
    "    device=device,\n",
    "    bidirectional=bidirectional,\n",
    "    dropout=dropout\n",
    ")\n",
    "## move model to device\n",
    "siamese_lstm_attention.to(device)"
   ]
  },
  {
   "cell_type": "code",
   "execution_count": 41,
   "id": "354d7c72",
   "metadata": {},
   "outputs": [
    {
     "name": "stderr",
     "output_type": "stream",
     "text": [
      "  0%|          | 0/100 [00:00<?, ?it/s]INFO:root:Epoch: 0\n",
      "INFO:root:new model saved\n",
      "INFO:root:Train loss: 0.04861226677894592 - acc: -0.15602814067856485 -- Validation loss: 0.008502704091370106 - acc: 0.1462756709497004\n",
      "  1%|          | 1/100 [00:00<01:20,  1.23it/s]INFO:root:Epoch: 1\n",
      "INFO:root:Train loss: 0.02771061286330223 - acc: 0.3411995958863545 -- Validation loss: 0.009029779583215714 - acc: 0.0853400315173547\n",
      "  2%|▏         | 2/100 [00:01<01:11,  1.37it/s]INFO:root:Epoch: 2\n",
      "INFO:root:new model saved\n",
      "INFO:root:Train loss: 0.02329939976334572 - acc: 0.44668084214438464 -- Validation loss: 0.00614151218906045 - acc: 0.29370592298985765\n",
      "  3%|▎         | 3/100 [00:02<01:09,  1.39it/s]INFO:root:Epoch: 3\n",
      "INFO:root:new model saved\n",
      "INFO:root:Train loss: 0.020239921286702156 - acc: 0.519323567505231 -- Validation loss: 0.0051321005448699 - acc: 0.506859198779164\n",
      "  4%|▍         | 4/100 [00:02<01:08,  1.40it/s]INFO:root:Epoch: 4\n",
      "INFO:root:Train loss: 0.018863288685679436 - acc: 0.5534595393037315 -- Validation loss: 0.007277911063283682 - acc: 0.36727527306306396\n",
      "  5%|▌         | 5/100 [00:03<01:06,  1.42it/s]INFO:root:Epoch: 5\n",
      "INFO:root:Train loss: 0.017460491508245468 - acc: 0.5862895498870899 -- Validation loss: 0.0060660699382424355 - acc: 0.4801115246372367\n",
      "  6%|▌         | 6/100 [00:04<01:04,  1.45it/s]INFO:root:Epoch: 6\n",
      "INFO:root:Train loss: 0.016229761764407158 - acc: 0.6146804608451076 -- Validation loss: 0.005685268901288509 - acc: 0.4463452222508235\n",
      "  7%|▋         | 7/100 [00:04<01:03,  1.46it/s]INFO:root:Epoch: 7\n",
      "INFO:root:Train loss: 0.015474159270524979 - acc: 0.6339327542329711 -- Validation loss: 0.005598102696239948 - acc: 0.4599557305247688\n",
      "  8%|▊         | 8/100 [00:05<01:01,  1.48it/s]INFO:root:Epoch: 8\n",
      "INFO:root:new model saved\n",
      "INFO:root:Train loss: 0.0147677818313241 - acc: 0.6485478806914551 -- Validation loss: 0.00511077418923378 - acc: 0.5087174051915271\n",
      "  9%|▉         | 9/100 [00:06<01:01,  1.48it/s]INFO:root:Epoch: 9\n",
      "INFO:root:Train loss: 0.014123023487627506 - acc: 0.6647129187129788 -- Validation loss: 0.0061497194692492485 - acc: 0.3071487945314928\n",
      " 10%|█         | 10/100 [00:06<01:00,  1.48it/s]INFO:root:Epoch: 10\n",
      "INFO:root:new model saved\n",
      "INFO:root:Train loss: 0.013609659858047962 - acc: 0.6779541176859076 -- Validation loss: 0.004425258841365576 - acc: 0.5129264537305149\n",
      " 11%|█         | 11/100 [00:07<01:01,  1.45it/s]INFO:root:Epoch: 11\n",
      "INFO:root:Train loss: 0.013226751238107681 - acc: 0.6855805029530765 -- Validation loss: 0.004893144126981497 - acc: 0.317258070811254\n",
      " 12%|█▏        | 12/100 [00:08<01:00,  1.46it/s]INFO:root:Epoch: 12\n",
      "INFO:root:new model saved\n",
      "INFO:root:Train loss: 0.01259447168558836 - acc: 0.700891536093863 -- Validation loss: 0.004521345254033804 - acc: 0.6195998546222838\n",
      " 13%|█▎        | 13/100 [00:09<00:59,  1.45it/s]INFO:root:Epoch: 13\n",
      "INFO:root:Train loss: 0.012374081648886204 - acc: 0.7067191178871854 -- Validation loss: 0.005740990862250328 - acc: 0.5500307585225828\n",
      " 14%|█▍        | 14/100 [00:09<00:58,  1.48it/s]INFO:root:Epoch: 14\n",
      "INFO:root:Train loss: 0.012111694552004337 - acc: 0.7121055599944586 -- Validation loss: 0.004738310351967812 - acc: 0.506324027473515\n",
      " 15%|█▌        | 15/100 [00:10<00:57,  1.49it/s]INFO:root:Epoch: 15\n",
      "INFO:root:Train loss: 0.011826194822788239 - acc: 0.7200663404846468 -- Validation loss: 0.0059165130369365215 - acc: 0.4568894851549896\n",
      " 16%|█▌        | 16/100 [00:10<00:56,  1.50it/s]INFO:root:Epoch: 16\n",
      "INFO:root:Train loss: 0.011454632505774498 - acc: 0.7279767890007638 -- Validation loss: 0.004873916041105986 - acc: 0.6144876321055079\n",
      " 17%|█▋        | 17/100 [00:11<00:55,  1.49it/s]INFO:root:Epoch: 17\n",
      "INFO:root:Train loss: 0.011228373274207115 - acc: 0.733223295358389 -- Validation loss: 0.005620906129479408 - acc: 0.5736367339856355\n",
      " 18%|█▊        | 18/100 [00:12<00:57,  1.44it/s]INFO:root:Epoch: 18\n",
      "INFO:root:Train loss: 0.010852745734155178 - acc: 0.7419819086649124 -- Validation loss: 0.0058891321532428265 - acc: 0.27615375131310804\n",
      " 19%|█▉        | 19/100 [00:13<00:57,  1.42it/s]INFO:root:Epoch: 19\n",
      "INFO:root:Train loss: 0.010814775712788105 - acc: 0.7430367389413671 -- Validation loss: 0.004952749703079462 - acc: 0.5641339271091379\n",
      " 20%|██        | 20/100 [00:13<00:56,  1.42it/s]INFO:root:Epoch: 20\n",
      "INFO:root:Train loss: 0.010773910209536552 - acc: 0.7452252374023425 -- Validation loss: 0.0062062605284154415 - acc: 0.34440236960843396\n",
      " 21%|██        | 21/100 [00:14<00:55,  1.42it/s]INFO:root:Epoch: 21\n",
      "INFO:root:Train loss: 0.010455896146595478 - acc: 0.7512763464009024 -- Validation loss: 0.00505675096064806 - acc: 0.5155072851290742\n",
      " 22%|██▏       | 22/100 [00:15<00:55,  1.41it/s]INFO:root:Epoch: 22\n",
      "INFO:root:Train loss: 0.010351575911045074 - acc: 0.7544130511881595 -- Validation loss: 0.004575978498905897 - acc: 0.5872218116501426\n",
      " 23%|██▎       | 23/100 [00:15<00:54,  1.41it/s]INFO:root:Epoch: 23\n",
      "INFO:root:Train loss: 0.010065303184092045 - acc: 0.7613641301562403 -- Validation loss: 0.004910883493721485 - acc: 0.49102537334293583\n",
      " 24%|██▍       | 24/100 [00:16<00:54,  1.41it/s]INFO:root:Epoch: 24\n",
      "INFO:root:Train loss: 0.009889616630971432 - acc: 0.7653531415359373 -- Validation loss: 0.0060723815113306046 - acc: 0.32897721200080754\n",
      " 25%|██▌       | 25/100 [00:17<00:53,  1.39it/s]INFO:root:Epoch: 25\n",
      "INFO:root:Train loss: 0.009750948287546635 - acc: 0.7681539915804648 -- Validation loss: 0.005342544987797737 - acc: 0.5268615220822466\n",
      " 26%|██▌       | 26/100 [00:18<00:53,  1.38it/s]INFO:root:Epoch: 26\n",
      "INFO:root:Train loss: 0.009645109996199608 - acc: 0.7713263393762244 -- Validation loss: 0.0061997054144740105 - acc: 0.5005253711376063\n",
      " 27%|██▋       | 27/100 [00:18<00:52,  1.38it/s]INFO:root:Epoch: 27\n",
      "INFO:root:Train loss: 0.009545485489070415 - acc: 0.7729102371748666 -- Validation loss: 0.0052141109481453896 - acc: 0.5109256280839354\n",
      " 28%|██▊       | 28/100 [00:19<00:53,  1.35it/s]INFO:root:Epoch: 28\n",
      "INFO:root:Train loss: 0.009476063773036003 - acc: 0.7755236116392952 -- Validation loss: 0.006535136606544256 - acc: 0.3865408049169501\n",
      " 29%|██▉       | 29/100 [00:20<00:51,  1.37it/s]INFO:root:Epoch: 29\n",
      "INFO:root:Train loss: 0.009380662813782692 - acc: 0.7772629571370944 -- Validation loss: 0.006083672400563955 - acc: 0.20304369336911843\n",
      " 30%|███       | 30/100 [00:21<00:51,  1.36it/s]INFO:root:Epoch: 30\n",
      "INFO:root:Train loss: 0.009215923957526684 - acc: 0.7811114373989383 -- Validation loss: 0.005452044308185577 - acc: 0.4209022638294845\n",
      " 31%|███       | 31/100 [00:21<00:50,  1.36it/s]INFO:root:Epoch: 31\n",
      "INFO:root:Train loss: 0.009126801043748856 - acc: 0.7829009024595355 -- Validation loss: 0.005864666309207678 - acc: 0.5323422043464892\n",
      " 32%|███▏      | 32/100 [00:22<00:49,  1.36it/s]INFO:root:Epoch: 32\n",
      "INFO:root:Train loss: 0.009108876809477806 - acc: 0.7845763259082925 -- Validation loss: 0.005371394567191601 - acc: 0.422460349239577\n",
      " 33%|███▎      | 33/100 [00:23<00:49,  1.36it/s]INFO:root:Epoch: 33\n",
      "INFO:root:Train loss: 0.009009594097733498 - acc: 0.7862200720967324 -- Validation loss: 0.006479898001998663 - acc: 0.2763514784518364\n",
      " 34%|███▍      | 34/100 [00:24<00:49,  1.35it/s]INFO:root:Epoch: 34\n",
      "INFO:root:Train loss: 0.00914245005697012 - acc: 0.7828711808872019 -- Validation loss: 0.004726588260382414 - acc: 0.5783117475220592\n",
      " 35%|███▌      | 35/100 [00:24<00:47,  1.36it/s]INFO:root:Epoch: 35\n",
      "INFO:root:Train loss: 0.008787942118942738 - acc: 0.791576155006157 -- Validation loss: 0.006136787589639425 - acc: 0.3309226438929692\n",
      " 36%|███▌      | 36/100 [00:25<00:46,  1.37it/s]INFO:root:Epoch: 36\n",
      "INFO:root:Train loss: 0.008830016478896141 - acc: 0.790802807146656 -- Validation loss: 0.006938592996448278 - acc: 0.4256923229282201\n",
      " 37%|███▋      | 37/100 [00:26<00:46,  1.34it/s]INFO:root:Epoch: 37\n",
      "INFO:root:Train loss: 0.0087187010794878 - acc: 0.7928346608254785 -- Validation loss: 0.005903727374970913 - acc: 0.39059852107534765\n",
      " 38%|███▊      | 38/100 [00:27<00:47,  1.31it/s]INFO:root:Epoch: 38\n",
      "INFO:root:Train loss: 0.008460046723484993 - acc: 0.7992160982642444 -- Validation loss: 0.005257203243672848 - acc: 0.5390191108309643\n",
      " 39%|███▉      | 39/100 [00:27<00:45,  1.33it/s]INFO:root:Epoch: 39\n",
      "INFO:root:Train loss: 0.008690783753991127 - acc: 0.7942493997290687 -- Validation loss: 0.0051406389102339745 - acc: 0.4722026357734598\n",
      " 40%|████      | 40/100 [00:28<00:45,  1.33it/s]INFO:root:Epoch: 40\n",
      "INFO:root:Train loss: 0.00848638080060482 - acc: 0.7988044068563609 -- Validation loss: 0.005300610791891813 - acc: 0.3017698051489466\n",
      " 41%|████      | 41/100 [00:29<00:44,  1.32it/s]INFO:root:Epoch: 41\n",
      "INFO:root:Train loss: 0.008328105323016644 - acc: 0.8025864261044088 -- Validation loss: 0.005309342406690121 - acc: 0.5295411276235684\n",
      " 42%|████▏     | 42/100 [00:30<00:43,  1.33it/s]INFO:root:Epoch: 42\n",
      "INFO:root:Train loss: 0.008359082974493504 - acc: 0.8015885156159722 -- Validation loss: 0.006246943958103657 - acc: 0.257117847945295\n",
      " 43%|████▎     | 43/100 [00:30<00:42,  1.34it/s]INFO:root:Epoch: 43\n",
      "INFO:root:Train loss: 0.0083625428378582 - acc: 0.8011786929123736 -- Validation loss: 0.006266322452574968 - acc: 0.416100661381948\n",
      " 44%|████▍     | 44/100 [00:31<00:41,  1.34it/s]INFO:root:Epoch: 44\n",
      "INFO:root:Train loss: 0.008179868571460247 - acc: 0.8061195490788596 -- Validation loss: 0.005668542347848415 - acc: 0.47714761627089863\n",
      " 45%|████▌     | 45/100 [00:32<00:40,  1.35it/s]INFO:root:Epoch: 45\n"
     ]
    }
   ],
   "source": [
    "from train import train_model, train_hyperparameters\n",
    "\n",
    "optimizer = torch.optim.Adam(params=siamese_lstm_attention.parameters(), lr=learning_rate)\n",
    "\n",
    "best_model, train_losses, train_accs, val_losses, val_accs = train_model(\n",
    "    model=siamese_lstm_attention,\n",
    "    optimizer=optimizer,\n",
    "    dataloader=sick_dataloaders,\n",
    "    data=sick_data,\n",
    "    max_epochs=max_epochs,\n",
    "    config_dict={\n",
    "        \"device\": device,\n",
    "        \"model_name\": \"siamese_lstm_attention\",\n",
    "        \"self_attention_config\": self_attention_config,\n",
    "    },\n",
    ")"
   ]
  },
  {
   "cell_type": "code",
   "execution_count": 35,
   "id": "5b30c587",
   "metadata": {},
   "outputs": [
    {
     "data": {
      "image/png": "[encoded data removed]",
      "text/plain": [
       "<Figure size 432x288 with 1 Axes>"
      ]
     },
     "metadata": {
      "needs_background": "light"
     },
     "output_type": "display_data"
    },
    {
     "data": {
      "image/png": "[encoded data removed]",
      "text/plain": [
       "<Figure size 432x288 with 1 Axes>"
      ]
     },
     "metadata": {
      "needs_background": "light"
     },
     "output_type": "display_data"
    },
    {
     "data": {
      "image/png": "[encoded data removed]",
      "text/plain": [
       "<Figure size 432x288 with 1 Axes>"
      ]
     },
     "metadata": {
      "needs_background": "light"
     },
     "output_type": "display_data"
    }
   ],
   "source": [
    "import matplotlib.pyplot as plt\n",
    "#print(val_losses)\n",
    "plt.plot(train_losses, label='train_loss')\n",
    "plt.legend()\n",
    "plt.savefig('train_loss_task_1.png')\n",
    "plt.show()\n",
    "\n",
    "\n",
    "plt.plot(val_losses, label='val_loss')\n",
    "plt.legend()\n",
    "plt.savefig('val_loss_task_1.png')\n",
    "plt.show()\n",
    "\n",
    "plt.plot(train_accs, label='train_accs')\n",
    "plt.plot(val_accs, label='val_accs')\n",
    "plt.legend()\n",
    "plt.savefig('accuracies_task_1.png')\n",
    "plt.show()"
   ]
  },
  {
   "cell_type": "markdown",
   "id": "47fe9cef",
   "metadata": {},
   "source": [
    "## Part 4. Evaluation and Analysis (2 points)  \n",
    "Implement function evaluate_test_set to calculate the final accuracy of the performance evaluation metric on the test data.  \n",
    "Compare the result with the original AAAI paper. Сomment on effect of penalty loss on model capacity. Did the inclusion of the self-attention block improve the results? If yes, then how? Can you think of additional techniques to improve the results? Briefly answer these questions in the markdown cells."
   ]
  },
  {
   "cell_type": "code",
   "execution_count": 36,
   "id": "143154f6",
   "metadata": {},
   "outputs": [
    {
     "name": "stderr",
     "output_type": "stream",
     "text": [
      "INFO:root:Evaluating accuracy on test set\n"
     ]
    },
    {
     "name": "stdout",
     "output_type": "stream",
     "text": [
      "final accuracy on test set is 0.5188277818213972\n",
      "pearsons r test set is (0.7304718566434085, 0.0)\n",
      "spearman rho on test set is SpearmanrResult(correlation=0.6012765649234728, pvalue=0.0)\n",
      "mean square error on test set is 0.019605137407779694\n"
     ]
    }
   ],
   "source": [
    "best_model = SiameseBiLSTMAttention(\n",
    "    batch_size=batch_size,\n",
    "    output_size=output_size,\n",
    "    hidden_size=hidden_size,\n",
    "    vocab_size=vocab_size,\n",
    "    embedding_size=embedding_size,\n",
    "    embedding_weights=embedding_weights,\n",
    "    lstm_layers=lstm_layers,\n",
    "    self_attention_config=self_attention_config,\n",
    "    fc_hidden_size=fc_hidden_size,\n",
    "    device=device,\n",
    "    bidirectional=bidirectional,\n",
    "    dropout=dropout\n",
    ")\n",
    "## move model to device\n",
    "best_model.to(device)\n",
    "best_model.load_state_dict(torch.load(\"siamese_lstm_attention.pth\"))\n",
    "\n",
    "\n",
    "test_acc, r, rho, mse = evaluate_test_set(\n",
    "    model=best_model,\n",
    "    data_loader=sick_dataloaders,\n",
    "    config_dict={\n",
    "        \"device\": device,\n",
    "        \"model_name\": \"siamese_lstm_attention\",\n",
    "        \"self_attention_config\": self_attention_config,\n",
    "    },\n",
    ")\n",
    "\n",
    "print('final accuracy on test set is {}'.format(test_acc))\n",
    "print('pearsons r test set is {}'.format(r))\n",
    "print('spearman rho on test set is {}'.format(rho))\n",
    "print('mean square error on test set is {}'.format(mse))"
   ]
  },
  {
   "cell_type": "code",
   "execution_count": 37,
   "id": "bf537e1f",
   "metadata": {},
   "outputs": [
    {
     "name": "stdout",
     "output_type": "stream",
     "text": [
      "tensor([2.5063, 2.1858, 4.3530, 4.2387], device='cuda:0',\n",
      "       grad_fn=<MulBackward0>)\n"
     ]
    }
   ],
   "source": [
    "## Test on some manual sentences\n",
    "test_sentences1 = ['The cat sits outside <pad> <pad>',\n",
    "             'A man is playing guitar <pad>',\n",
    "             'The new movie is awesome <pad>',\n",
    "             'The dog plays in the garden']\n",
    "\n",
    "test_sentences2 = ['The dog plays in the garden',\n",
    "              'A woman watches TV <pad> <pad>',\n",
    "              'The new movie is so great',\n",
    "              'The dog plays in the garden']\n",
    "\n",
    "tokenized_sen1= list()             \n",
    "for sentence in test_sentences1:\n",
    "    tokenized = [sick_data.vocab.stoi[word] for word in sentence.split()]\n",
    "    tokenized_sen1.append(tokenized)\n",
    "tokenized_sen1 = torch.tensor(tokenized_sen1).to(device)\n",
    "\n",
    "tokenized_sen2= list()             \n",
    "for sentence in test_sentences2:\n",
    "    tokenized = [sick_data.vocab.stoi[word] for word in sentence.split()]\n",
    "    tokenized_sen2.append(tokenized)\n",
    "tokenized_sen2=torch.tensor(tokenized_sen2).to(device)\n",
    "#print(tokenized_sen1)\n",
    "\n",
    "predic, a1, a2 = best_model(tokenized_sen1, tokenized_sen2)\n",
    "\n",
    "print(predic*5.0)"
   ]
  }
 ],
 "metadata": {
  "kernelspec": {
   "display_name": "Python 3",
   "language": "python",
   "name": "python3"
  },
  "language_info": {
   "codemirror_mode": {
    "name": "ipython",
    "version": 3
   },
   "file_extension": ".py",
   "mimetype": "text/x-python",
   "name": "python",
   "nbconvert_exporter": "python",
   "pygments_lexer": "ipython3",
   "version": "3.7.10"
  }
 },
 "nbformat": 4,
 "nbformat_minor": 5
}
